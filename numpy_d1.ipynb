{
  "nbformat": 4,
  "nbformat_minor": 0,
  "metadata": {
    "colab": {
      "provenance": [],
      "authorship_tag": "ABX9TyMPhGP7CFYaPAiKN1LlyaPY",
      "include_colab_link": true
    },
    "kernelspec": {
      "name": "python3",
      "display_name": "Python 3"
    },
    "language_info": {
      "name": "python"
    }
  },
  "cells": [
    {
      "cell_type": "markdown",
      "metadata": {
        "id": "view-in-github",
        "colab_type": "text"
      },
      "source": [
        "<a href=\"https://colab.research.google.com/github/NAMITHASS/SCRATCH/blob/main/numpy_d1.ipynb\" target=\"_parent\"><img src=\"https://colab.research.google.com/assets/colab-badge.svg\" alt=\"Open In Colab\"/></a>"
      ]
    },
    {
      "cell_type": "code",
      "execution_count": null,
      "metadata": {
        "colab": {
          "base_uri": "https://localhost:8080/"
        },
        "id": "8jW_QhohOF1G",
        "outputId": "d3435eaf-15c7-4c65-9f0a-a47d99bab3c8"
      },
      "outputs": [
        {
          "output_type": "execute_result",
          "data": {
            "text/plain": [
              "[1, 2, 3, 2, 3, 4, [1, 2]]"
            ]
          },
          "metadata": {},
          "execution_count": 1
        }
      ],
      "source": [
        "a=[1,2,3]\n",
        "b=[2,3,4]\n",
        "l=a+b\n",
        "l.append([1,2])\n",
        "l"
      ]
    },
    {
      "cell_type": "code",
      "source": [
        "a=(1,2,3)\n",
        "b=(2,3,4)\n",
        "l=a+b\n",
        "l"
      ],
      "metadata": {
        "id": "5oHYTqsncN6s",
        "colab": {
          "base_uri": "https://localhost:8080/"
        },
        "outputId": "d76bf025-4b53-4562-8ac8-15faf5672e10"
      },
      "execution_count": null,
      "outputs": [
        {
          "output_type": "execute_result",
          "data": {
            "text/plain": [
              "(1, 2, 3, 2, 3, 4)"
            ]
          },
          "metadata": {},
          "execution_count": 2
        }
      ]
    },
    {
      "cell_type": "code",
      "source": [
        "import numpy as np\n",
        "a=np.array([1,2,3,4,5,6,7])\n",
        "a.shape"
      ],
      "metadata": {
        "colab": {
          "base_uri": "https://localhost:8080/"
        },
        "id": "j0eilCHZbWwm",
        "outputId": "a3e888ed-99f8-42dd-a420-07c599af3a89"
      },
      "execution_count": null,
      "outputs": [
        {
          "output_type": "execute_result",
          "data": {
            "text/plain": [
              "(7,)"
            ]
          },
          "metadata": {},
          "execution_count": 3
        }
      ]
    },
    {
      "cell_type": "code",
      "source": [
        "a=np.array([1,2,3],dtype=np.float64)\n",
        "print(type(a))"
      ],
      "metadata": {
        "colab": {
          "base_uri": "https://localhost:8080/"
        },
        "id": "ffVTOEN9dfwg",
        "outputId": "8925ddc3-a929-4a37-b7a8-53fd79f566f7"
      },
      "execution_count": null,
      "outputs": [
        {
          "output_type": "stream",
          "name": "stdout",
          "text": [
            "<class 'numpy.ndarray'>\n"
          ]
        }
      ]
    },
    {
      "cell_type": "code",
      "source": [
        "a=np.ones(3)\n",
        "b=np.zeros(3)\n",
        "c=np.random.random(3)\n",
        "print(a)\n",
        "print(b)\n",
        "print(c)"
      ],
      "metadata": {
        "colab": {
          "base_uri": "https://localhost:8080/"
        },
        "id": "pDEwywInfEhC",
        "outputId": "e362d1b9-39d2-42e4-91c8-8654cec986e8"
      },
      "execution_count": null,
      "outputs": [
        {
          "output_type": "stream",
          "name": "stdout",
          "text": [
            "[1. 1. 1.]\n",
            "[0. 0. 0.]\n",
            "[0.0315758  0.67718973 0.89361632]\n"
          ]
        }
      ]
    },
    {
      "cell_type": "code",
      "source": [
        "a=np.ones((4,3,2))\n",
        "b=np.zeros((4,3,2))\n",
        "c=np.random.random((4,3,2))\n",
        "print(a,b,c)"
      ],
      "metadata": {
        "colab": {
          "base_uri": "https://localhost:8080/"
        },
        "id": "_-JS_wyDf7ut",
        "outputId": "6fc94c0b-2d39-4bc0-ff5f-ffebdaff0bde"
      },
      "execution_count": null,
      "outputs": [
        {
          "output_type": "stream",
          "name": "stdout",
          "text": [
            "[[[1. 1.]\n",
            "  [1. 1.]\n",
            "  [1. 1.]]\n",
            "\n",
            " [[1. 1.]\n",
            "  [1. 1.]\n",
            "  [1. 1.]]\n",
            "\n",
            " [[1. 1.]\n",
            "  [1. 1.]\n",
            "  [1. 1.]]\n",
            "\n",
            " [[1. 1.]\n",
            "  [1. 1.]\n",
            "  [1. 1.]]] [[[0. 0.]\n",
            "  [0. 0.]\n",
            "  [0. 0.]]\n",
            "\n",
            " [[0. 0.]\n",
            "  [0. 0.]\n",
            "  [0. 0.]]\n",
            "\n",
            " [[0. 0.]\n",
            "  [0. 0.]\n",
            "  [0. 0.]]\n",
            "\n",
            " [[0. 0.]\n",
            "  [0. 0.]\n",
            "  [0. 0.]]] [[[0.67911628 0.35088464]\n",
            "  [0.50226194 0.38160338]\n",
            "  [0.70998784 0.2294096 ]]\n",
            "\n",
            " [[0.60272745 0.0057218 ]\n",
            "  [0.79662363 0.74808235]\n",
            "  [0.86705116 0.71674309]]\n",
            "\n",
            " [[0.67344741 0.96629358]\n",
            "  [0.82050892 0.03382748]\n",
            "  [0.60797929 0.104127  ]]\n",
            "\n",
            " [[0.74531128 0.63395662]\n",
            "  [0.88655576 0.3029274 ]\n",
            "  [0.21766715 0.08778115]]]\n"
          ]
        }
      ]
    },
    {
      "cell_type": "code",
      "source": [
        "d=np.eye(3)\n",
        "print(d)"
      ],
      "metadata": {
        "colab": {
          "base_uri": "https://localhost:8080/"
        },
        "id": "rWdIt6l7glvX",
        "outputId": "19a3dc68-fcc5-45e1-ff2e-31f0acdac7b2"
      },
      "execution_count": null,
      "outputs": [
        {
          "output_type": "stream",
          "name": "stdout",
          "text": [
            "[[1. 0. 0.]\n",
            " [0. 1. 0.]\n",
            " [0. 0. 1.]]\n"
          ]
        }
      ]
    },
    {
      "cell_type": "code",
      "source": [
        "f=np.arange(10,50,5)\n",
        "print(f)"
      ],
      "metadata": {
        "colab": {
          "base_uri": "https://localhost:8080/"
        },
        "id": "Kv65gMI7gyRj",
        "outputId": "17638c5b-ad86-4d6b-9ffe-5a52ea30c3f2"
      },
      "execution_count": null,
      "outputs": [
        {
          "output_type": "stream",
          "name": "stdout",
          "text": [
            "[10 15 20 25 30 35 40 45]\n"
          ]
        }
      ]
    },
    {
      "cell_type": "code",
      "source": [
        "c=np.full((2,2),7) #constant\n",
        "print(c)"
      ],
      "metadata": {
        "colab": {
          "base_uri": "https://localhost:8080/"
        },
        "id": "pYClTheggbSe",
        "outputId": "f544afa0-9b7f-4ea8-9d01-ae434095cd0c"
      },
      "execution_count": null,
      "outputs": [
        {
          "output_type": "stream",
          "name": "stdout",
          "text": [
            "[[7 7]\n",
            " [7 7]]\n"
          ]
        }
      ]
    },
    {
      "cell_type": "code",
      "source": [
        "g=np.linspace(0.,1.,num=5)\n",
        "print(g)"
      ],
      "metadata": {
        "colab": {
          "base_uri": "https://localhost:8080/"
        },
        "id": "0MYavlR3hOL-",
        "outputId": "3ac41ee5-420b-4199-a525-4e02e9ffde09"
      },
      "execution_count": null,
      "outputs": [
        {
          "output_type": "stream",
          "name": "stdout",
          "text": [
            "[0.   0.25 0.5  0.75 1.  ]\n"
          ]
        }
      ]
    },
    {
      "cell_type": "code",
      "source": [
        "a=np.array([[1,2,3,4],[1,5,6,7],[4,7,6,3]])\n",
        "print(a[0:2,0])\n",
        "c=a.shape\n",
        "print(c)\n",
        "b=a[1:3,2:4]\n",
        "print(b)"
      ],
      "metadata": {
        "colab": {
          "base_uri": "https://localhost:8080/"
        },
        "id": "znsTBWbditZt",
        "outputId": "31d854e5-258d-4b68-897b-3c00d9a9080c"
      },
      "execution_count": null,
      "outputs": [
        {
          "output_type": "stream",
          "name": "stdout",
          "text": [
            "[1 1]\n",
            "(3, 4)\n",
            "[[6 7]\n",
            " [6 3]]\n"
          ]
        }
      ]
    },
    {
      "cell_type": "code",
      "source": [
        "a=np.array([[1,2,3,4],[5,6,7,9],[2,4,1,2]])\n",
        "print(a)"
      ],
      "metadata": {
        "colab": {
          "base_uri": "https://localhost:8080/"
        },
        "id": "oUEr_asll3Qu",
        "outputId": "8d668a25-14b9-4c75-f6cf-373596d2585e"
      },
      "execution_count": null,
      "outputs": [
        {
          "output_type": "stream",
          "name": "stdout",
          "text": [
            "[[1 2 3 4]\n",
            " [5 6 7 9]\n",
            " [2 4 1 2]]\n"
          ]
        }
      ]
    },
    {
      "cell_type": "code",
      "source": [
        "r1=a[1,:]\n",
        "r2=a[1:2,:]\n",
        "r3=a[[1],:]\n",
        "print(r1,r1.shape)\n",
        "print(r2,r2.shape)\n",
        "print(r2,r3.shape)"
      ],
      "metadata": {
        "colab": {
          "base_uri": "https://localhost:8080/"
        },
        "id": "D-biGK62l3YS",
        "outputId": "c8a6cf46-3b52-4af8-be73-5f9fa1d4f145"
      },
      "execution_count": null,
      "outputs": [
        {
          "output_type": "stream",
          "name": "stdout",
          "text": [
            "[5 6 7 9] (4,)\n",
            "[[5 6 7 9]] (1, 4)\n",
            "[[5 6 7 9]] (1, 4)\n"
          ]
        }
      ]
    },
    {
      "cell_type": "code",
      "source": [
        "c1=a[:,1]\n",
        "c2=a[:,1:2]\n",
        "print(c1,c1.shape)\n",
        "print(c2,c2.shape)"
      ],
      "metadata": {
        "colab": {
          "base_uri": "https://localhost:8080/"
        },
        "id": "Iun4OGsEoCAN",
        "outputId": "37cf822b-aa6a-4e91-8080-a6b1bfd7220b"
      },
      "execution_count": null,
      "outputs": [
        {
          "output_type": "stream",
          "name": "stdout",
          "text": [
            "[2 6 4] (3,)\n",
            "[[2]\n",
            " [6]\n",
            " [4]] (3, 1)\n"
          ]
        }
      ]
    }
  ]
}